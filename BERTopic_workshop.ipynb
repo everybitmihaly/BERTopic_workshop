{
  "nbformat": 4,
  "nbformat_minor": 0,
  "metadata": {
    "colab": {
      "provenance": []
    },
    "kernelspec": {
      "name": "python3",
      "display_name": "Python 3"
    },
    "language_info": {
      "name": "python"
    }
  },
  "cells": [
    {
      "cell_type": "markdown",
      "source": [
        "### 1) Szükséges könyvtárak installálása, betöltése ⛽"
      ],
      "metadata": {
        "id": "5hol2SobXWKB"
      }
    },
    {
      "cell_type": "code",
      "source": [
        "!pip install pandas bertopic numpy"
      ],
      "metadata": {
        "id": "5XdQJJF5fp7x"
      },
      "execution_count": 41,
      "outputs": []
    },
    {
      "cell_type": "code",
      "source": [
        "import numpy as np\n",
        "import pandas as pd\n",
        "\n",
        "from bertopic import BERTopic\n",
        "from bertopic.vectorizers import ClassTfidfTransformer\n",
        "from bertopic.representation import KeyBERTInspired, MaximalMarginalRelevance, PartOfSpeech\n",
        "from sentence_transformers import SentenceTransformer\n",
        "\n",
        "from sklearn.feature_extraction.text import CountVectorizer"
      ],
      "metadata": {
        "id": "0IMGODq0eOZm"
      },
      "execution_count": 4,
      "outputs": []
    },
    {
      "cell_type": "markdown",
      "source": [
        "### 2) Adat kiválasztása 📊"
      ],
      "metadata": {
        "id": "NW-mWVzIQGFc"
      }
    },
    {
      "cell_type": "markdown",
      "source": [
        "❓ Melyik portál legyen?\n",
        "- KurucInfo (kód: `kuruc`)\n",
        "- Népszava (kód: `nepszava`)\n",
        "- Origo (kód: `origo`)\n",
        "- Magyar Nemzet (kód: `mno`)"
      ],
      "metadata": {
        "id": "CB8jomihQMrU"
      }
    },
    {
      "cell_type": "code",
      "source": [
        "portal = 'nepszava'  # <-- ide írd a portál kódot"
      ],
      "metadata": {
        "id": "XiHWKxB4QbLY"
      },
      "execution_count": 21,
      "outputs": []
    },
    {
      "cell_type": "markdown",
      "source": [
        "❓ Melyik év legyen?\n",
        "- Nézd meg a http://porthos.elte-dh.hu:8000/ oldalon az elérhető JSON fájlokat"
      ],
      "metadata": {
        "id": "cpBtUE0PQfy-"
      }
    },
    {
      "cell_type": "code",
      "source": [
        "year = '2013'  #  <-- ide írd az évet"
      ],
      "metadata": {
        "id": "kRd_aOHTQnfE"
      },
      "execution_count": 22,
      "outputs": []
    },
    {
      "cell_type": "markdown",
      "source": [
        "❗ A portálnevet és az évet összerakva már le tudod szedni az adatot a szerverről:"
      ],
      "metadata": {
        "id": "nHwpJKB_QtN_"
      }
    },
    {
      "cell_type": "code",
      "source": [
        "server_url = f'http://porthos.elte-dh.hu:8000/{portal}_{year}.json'  # ezzel megcsináljuk a szerver URL-t"
      ],
      "metadata": {
        "id": "3nub1gNdQ0ZW"
      },
      "execution_count": 23,
      "outputs": []
    },
    {
      "cell_type": "markdown",
      "source": [
        "❗Ez a kód leszedi a szerverről az adatot és berakja egy pandas DataFrame-be."
      ],
      "metadata": {
        "id": "x3zFVKl6RHfH"
      }
    },
    {
      "cell_type": "code",
      "source": [
        "df = pd.read_json(server_url)  # Kicsit várni kell."
      ],
      "metadata": {
        "id": "BS33H3p0RB87"
      },
      "execution_count": 24,
      "outputs": []
    },
    {
      "cell_type": "code",
      "source": [
        "# Így néz ki az adatunk\n",
        "df.head(5)"
      ],
      "metadata": {
        "id": "YKS9vfgHYmT_"
      },
      "execution_count": 42,
      "outputs": []
    },
    {
      "cell_type": "markdown",
      "source": [
        "### 3) BERTopic inicializálása 🏁"
      ],
      "metadata": {
        "id": "C9Ot87eeRR1p"
      }
    },
    {
      "cell_type": "markdown",
      "source": [
        "❗Először kiválasztjuk azokat a szavakat, amikre nincs szükség. Ha valamelyik mégis kellene, akkor nyugodtan töröld ki!"
      ],
      "metadata": {
        "id": "leqphGeUTlFM"
      }
    },
    {
      "cell_type": "code",
      "source": [
        "hu_stop_words = [\n",
        "    'a', 'abban', 'ahhoz', 'ahogy', 'ahol', 'aki', 'akik', 'akkor', 'alatt', 'amely', 'amelyek', 'amelyekben', 'amelyeket', 'amelyet',\n",
        "    'amelynek', 'ami', 'amikor', 'amit', 'amolyan', 'amíg', 'annak', 'arra', 'arról', 'az', 'azok',\n",
        "    'azon', 'azonban', 'azt', 'aztán', 'azután', 'azzal', 'azért', 'be', 'belül', 'benne', 'bár','csak', 'de', 'e',\n",
        "    'ebben', 'eddig', 'egy', 'egyes', 'egyetlen', 'egyik', 'egyre', 'egyéb', 'egész', 'ehhez', 'ekkor', 'el', 'ellen', 'elsõ', 'elég',\n",
        "    'elõ', 'elõször', 'elõtt', 'emilyen', 'ennek', 'erre', 'ez', 'ezek', 'ezen', 'ezt', 'ezzel', 'ezért', 'fel', 'felé', 'hanem',\n",
        "    'hiszen', 'hogy', 'hogyan', 'igen', 'ill', 'ill.', 'illetve', 'ilyen', 'ilyenkor', 'ismét', 'ison', 'itt', 'jobban', 'jó', 'jól', 'kell', 'kellett',\n",
        "    'keressünk', 'keresztül', 'ki', 'kívül', 'között', 'közül', 'legalább', 'legyen', 'lehet', 'lehetett', 'lenne', 'lenni', 'lesz', 'lett', 'maga', 'magát', 'majd',\n",
        "    'majd', 'meg', 'mellett', 'mely', 'melyek', 'mert', 'mi', 'mikor', 'milyen', 'minden', 'mindenki', 'mindent', 'mindig', 'mint', 'mintha', 'mit', 'mivel', 'miért', 'most',\n",
        "    'már', 'más', 'másik', 'még', 'míg', 'nagy', 'nagyobb', 'nagyon', 'ne', 'nekem', 'neki', 'nem', 'nincs', 'néha', 'néhány', 'nélkül', 'olyan', 'ott', 'pedig',\n",
        "    'persze', 'rá', 's', 'saját', 'sem', 'semmi', 'sok', 'sokat', 'sokkal', 'szemben', 'szerint', 'szinte', 'számára', 'talán', 'tehát', 'teljes', 'tovább', 'továbbá',\n",
        "    'több', 'ugyanis', 'utolsó', 'után', 'utána', 'vagy', 'vagyis', 'vagyok', 'valaki', 'valami', 'valamint', 'való', 'van', 'vannak', 'vele', 'vissza', 'viszont', 'volna',\n",
        "    'volt', 'voltak', 'voltam', 'voltunk', 'által', 'általában', 'át', 'én', 'éppen', 'és', 'így', 'õ', 'õk', 'õket', 'össze', 'úgy', 'új', 'újabb', 'újra'\n",
        "    ]"
      ],
      "metadata": {
        "id": "Ox8mV1jARbJy"
      },
      "execution_count": 15,
      "outputs": []
    },
    {
      "cell_type": "markdown",
      "source": [
        "❗ Utána kell egy model ami a deskriptív szavakért lesz felelős. A CountVectorizer egy olyan eszköz, amely a dokumentumokban található szavak előfordulásának számát veszi figyelembe, hogy azok alapján jellemezze és csoportosítsa a témákat."
      ],
      "metadata": {
        "id": "i2hiN7rXVDhT"
      }
    },
    {
      "cell_type": "code",
      "source": [
        "# Itt meg lehet változtatni a min_df-et is és az ngram_range-et is (pl 1, 3 -ra)\n",
        "vectorizer_model = CountVectorizer(stop_words=hu_stop_words, min_df=2, ngram_range=(1, 2))"
      ],
      "metadata": {
        "id": "vgwMNVbHRaZG"
      },
      "execution_count": 26,
      "outputs": []
    },
    {
      "cell_type": "markdown",
      "source": [
        "❗Végül csinálunk egy bertopic topic model objektumot. Ha a nyelv magyar akkor egy többnyelvű nyelvmodellt használ. A min_topic_size-ot nyugodtan változtasd ha nem tetszik a kiement."
      ],
      "metadata": {
        "id": "3eqWd0gRTiPw"
      }
    },
    {
      "cell_type": "code",
      "source": [
        "topic_model = BERTopic(language='hungarian', vectorizer_model=vectorizer_model, min_topic_size=15)"
      ],
      "metadata": {
        "id": "aSyJ1K-UV4rd"
      },
      "execution_count": 27,
      "outputs": []
    },
    {
      "cell_type": "markdown",
      "source": [
        "### 4) A modellnek megadjuk az adatokat, és futtatjuk. ⌛\n",
        "... ez eltart egy ideig ..."
      ],
      "metadata": {
        "id": "Ssvwur-4WI7z"
      }
    },
    {
      "cell_type": "code",
      "source": [
        "topics, probs = topic_model.fit_transform(df['first_paragraph'], embeddings=np.array(list(df['embedding'])))"
      ],
      "metadata": {
        "id": "zzd1MySfgJL4"
      },
      "execution_count": 28,
      "outputs": []
    },
    {
      "cell_type": "markdown",
      "source": [
        "### 5) Végül vizualizálhatjuk az eredményeinket 📈"
      ],
      "metadata": {
        "id": "G6hFJlKLYEoh"
      }
    },
    {
      "cell_type": "code",
      "source": [
        "# Topikok elhelyezkedése egy 2D-s térben\n",
        "topic_model.visualize_topics()"
      ],
      "metadata": {
        "id": "HKztrZUxgPGO"
      },
      "execution_count": 43,
      "outputs": []
    },
    {
      "cell_type": "code",
      "source": [
        "# Topik számok és a hozzájuk tartozó szavak relevanciája\n",
        "topic_model.visualize_barchart(top_n_topics=100)"
      ],
      "metadata": {
        "id": "WM1g6ZfuQEWP"
      },
      "execution_count": 44,
      "outputs": []
    },
    {
      "cell_type": "markdown",
      "source": [
        "### 6) Az eredményeink alapján visszatérhetünk az adatunkhoz, és megnézhetjük, mi került egy topikba. 👀"
      ],
      "metadata": {
        "id": "hdze-_GzZIFl"
      }
    },
    {
      "cell_type": "code",
      "source": [
        "# Itt hozzárendeljük a topik ereményeket az adatunkhoz\n",
        "no_embeddings_df = df.drop('embedding', axis=1)\n",
        "no_embeddings_df['topic'] = topics"
      ],
      "metadata": {
        "id": "fBnCjBsvQ6Pu"
      },
      "execution_count": 35,
      "outputs": []
    },
    {
      "cell_type": "code",
      "source": [
        "topic_n = 2  # <-- ide írd a topik számot ami érdekel\n",
        "no_embeddings_df[no_embeddings_df['topic'] == topic_n]"
      ],
      "metadata": {
        "id": "awo56O6sZcHd"
      },
      "execution_count": 45,
      "outputs": []
    }
  ]
}